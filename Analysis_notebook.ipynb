{
 "cells": [
  {
   "cell_type": "markdown",
   "metadata": {},
   "source": [
    "# Docstring\n",
    "Here the actual analysis of the data should take place. \n",
    "From loading the data, to manipulating it and then generating plots as output.\n"
   ]
  },
  {
   "cell_type": "code",
   "execution_count": 12,
   "metadata": {},
   "outputs": [],
   "source": [
    "import matplotlib.pyplot as plt\n",
    "import numpy as np\n",
    "import pandas as pd\n",
    "import seaborn as sns\n",
    "import sqlite3\n",
    "from sqlalchemy import create_engine"
   ]
  },
  {
   "cell_type": "code",
   "execution_count": 23,
   "metadata": {},
   "outputs": [],
   "source": [
    "# Create engine with sqlalchemy\n",
    "engine = create_engine(\"sqlite:///\" + \"climbing.sqlite\")\n",
    "# /Users/AaronKuijpers/Desktop/git/Private_projects/Climbing"
   ]
  },
  {
   "cell_type": "code",
   "execution_count": 24,
   "metadata": {},
   "outputs": [
    {
     "data": {
      "text/plain": [
       "['ascent', 'grade', 'method', 'user']"
      ]
     },
     "execution_count": 24,
     "metadata": {},
     "output_type": "execute_result"
    }
   ],
   "source": [
    "engine.table_names()"
   ]
  },
  {
   "cell_type": "code",
   "execution_count": 25,
   "metadata": {},
   "outputs": [],
   "source": [
    "# Load the tables into pandas dataframes\n",
    "grade = pd.read_sql_table(\"grade\", engine)  # Table of available grades, ordered by difficulty\n",
    "method = pd.read_sql_table(\"method\", engine)  # Table of ascent \"methods\" like Onsight, Redpoint etc.\n",
    "ascent = pd.read_sql_table(\"ascent\", engine)  # Table of every single ascent, crossreverence to all other tables\n",
    "user = pd.read_sql_table(\"user\", engine)  # Table of users with some attributes"
   ]
  },
  {
   "cell_type": "code",
   "execution_count": null,
   "metadata": {},
   "outputs": [],
   "source": []
  }
 ],
 "metadata": {
  "kernelspec": {
   "display_name": "Python 3",
   "language": "python",
   "name": "python3"
  },
  "language_info": {
   "codemirror_mode": {
    "name": "ipython",
    "version": 3
   },
   "file_extension": ".py",
   "mimetype": "text/x-python",
   "name": "python",
   "nbconvert_exporter": "python",
   "pygments_lexer": "ipython3",
   "version": "3.7.3"
  }
 },
 "nbformat": 4,
 "nbformat_minor": 4
}
